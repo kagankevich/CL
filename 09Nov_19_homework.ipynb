{
  "nbformat": 4,
  "nbformat_minor": 0,
  "metadata": {
    "kernelspec": {
      "display_name": "Python 3",
      "language": "python",
      "name": "python3"
    },
    "language_info": {
      "codemirror_mode": {
        "name": "ipython",
        "version": 3
      },
      "file_extension": ".py",
      "mimetype": "text/x-python",
      "name": "python",
      "nbconvert_exporter": "python",
      "pygments_lexer": "ipython3",
      "version": "3.7.0"
    },
    "colab": {
      "name": "09Nov_19 homework.ipynb",
      "provenance": [],
      "collapsed_sections": [
        "pilnXnWUAgaI"
      ],
      "include_colab_link": true
    }
  },
  "cells": [
    {
      "cell_type": "markdown",
      "metadata": {
        "id": "view-in-github",
        "colab_type": "text"
      },
      "source": [
        "<a href=\"https://colab.research.google.com/github/kagankevich/CL/blob/master/09Nov_19_homework.ipynb\" target=\"_parent\"><img src=\"https://colab.research.google.com/assets/colab-badge.svg\" alt=\"Open In Colab\"/></a>"
      ]
    },
    {
      "cell_type": "markdown",
      "metadata": {
        "id": "kIZidEDRSGBg",
        "colab_type": "text"
      },
      "source": [
        "Часто нам нужно работать с файлами, операционной системой, перемещаться среди папок и тд. Для решениях этих задач, в питоне существует модуль  os. Подробнее о модуле можно почитать [тут](https://pythonworld.ru/moduli/modul-os.html). \n",
        "\n",
        "Рассмотрим основные методы"
      ]
    },
    {
      "cell_type": "markdown",
      "metadata": {
        "id": "Torip8XCVl-m",
        "colab_type": "text"
      },
      "source": [
        "у нас есть текст, которых лежит в файле city_smells.txt. Давайте проведем с ним элементарные количественные исследования: можно, например, узнать, сколько в тексте уникальных слов, размер самого длинного предложения и тд. Чтобы работать с текстом, который лежит в файле, нам надо:\n",
        "\n",
        "Открыть файл (не забудьте о режиме открытия и энкодинге)\n",
        "Прочитать его\n",
        "Сохранить текст в переменную, с которой можно работать дальше\n",
        "Предобработка текста: удалить пунктуацию, свести текст к нижнему регистру\n",
        "\n",
        "Что можно сделать с текстом: (пункты на выбор, минимум один)\n",
        "\n",
        "определить среднюю длину слова в тексте\n",
        "определить среднюю длину предложения в тексте\n",
        "посчитать, во сколько раз самое длинное предложение длиннее самого короткого (такое же можно сделать со словами)\n",
        "(не убирая пунктуацию) - среднее количество пунктуационных знаков в предложении\n",
        "количество уникальных слов и пророрция общему количеству слов в тексте\n",
        "что-то еще, что Вы сами захотите поисследовать\n",
        "Запишите результат Вашего мини-исследования в новый файл, добавьте его и (отдельный) файл с кодом в Ваш репозиторий.\n",
        "\n",
        "Удачи! Дедлайн - суббота, 16 ноября."
      ]
    },
    {
      "cell_type": "code",
      "metadata": {
        "id": "0ELlYjV3X38-",
        "colab_type": "code",
        "colab": {}
      },
      "source": [
        "import string\n",
        "\n",
        "with open ('city_smells.txt', 'r', encoding = 'utf-8') as my_text :\n",
        "  my_text = my_text.read().lower().translate(str.maketrans('','', '!\"#$%&()*+,-.:;<=>?@[\\]^_`{|}~—'))\n",
        "#print(string.punctuation)\n",
        "#print(my_text)\n",
        "\n",
        "f = open('results.txt', 'w') \n",
        "\n",
        "#sentences\n",
        "my_sentences = my_text.split('\\n')\n",
        "max_sentence = 0\n",
        "min_sentence = 0\n",
        "i = 0 \n",
        "total_sentence_length = 0\n",
        "for sentence in my_sentences :\n",
        "  if sentence == \"\" : continue\n",
        "  if max_sentence < len(sentence) : max_sentence = len(sentence)\n",
        "  total_sentence_length = total_sentence_length + len(sentence)\n",
        "\n",
        "  if i == 0 : \n",
        "    min_sentence = len(sentence)\n",
        "  else :\n",
        "    if min_sentence > len(sentence) : min_sentence = len(sentence)\n",
        "  i = i + 1\n",
        "f.write('the longest sentence has '+ str(max_sentence) + ' characters \\n') \n",
        "f.write('the shortest sentence has ' + str(min_sentence) + ' characters \\n') \n",
        "\n",
        "f.write('Average sentence length:' + str(round(total_sentence_length/len(my_sentences), 2))+' characters \\n')\n",
        "\n",
        "\n",
        "#words\n",
        "my_words = my_text.split()\n",
        "clean_words = list()\n",
        "for word in my_words :\n",
        "  clean_words.append(word.strip('«»'))\n",
        "\n",
        "total_len = 0\n",
        "for word in clean_words :\n",
        "  total_len = total_len + len(word)\n",
        "\n",
        "f.write('Average word length: ' + str(round(total_len/len(clean_words), 2)) + ' characters\\n')\n",
        "f.write('total words in text: ' + str(len(clean_words)) + '\\n')\n",
        "unique_words = set(clean_words)\n",
        "f.write('unique words in text: '+str(len(unique_words))+'\\n')\n",
        "\n",
        "#print(unique_words)\n",
        "f.write('number of unique words to total number of words:' + str(round(len(unique_words)/len(clean_words), 2)) + '\\n')\n",
        "f.close()"
      ],
      "execution_count": 0,
      "outputs": []
    }
  ]
}
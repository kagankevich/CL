{
  "nbformat": 4,
  "nbformat_minor": 0,
  "metadata": {
    "colab": {
      "name": "Copy of Copy of Sat_02Nov_19.ipynb",
      "provenance": [],
      "collapsed_sections": [],
      "include_colab_link": true
    },
    "kernelspec": {
      "name": "python3",
      "display_name": "Python 3"
    }
  },
  "cells": [
    {
      "cell_type": "markdown",
      "metadata": {
        "id": "view-in-github",
        "colab_type": "text"
      },
      "source": [
        "<a href=\"https://colab.research.google.com/github/kagankevich/CL/blob/master/Sat_02Nov_19.ipynb\" target=\"_parent\"><img src=\"https://colab.research.google.com/assets/colab-badge.svg\" alt=\"Open In Colab\"/></a>"
      ]
    },
    {
      "cell_type": "markdown",
      "metadata": {
        "id": "ylixGHVOvAqB",
        "colab_type": "text"
      },
      "source": [
        "##Classwork"
      ]
    },
    {
      "cell_type": "markdown",
      "metadata": {
        "id": "WbpgWXdHvgV8",
        "colab_type": "text"
      },
      "source": [
        "1.  генератор названий компаний (почти как генератор паролей)"
      ]
    },
    {
      "cell_type": "code",
      "metadata": {
        "id": "lIwa6cOqvcTs",
        "colab_type": "code",
        "outputId": "9a3b740c-7e00-4ef8-b773-c89cea83de04",
        "colab": {
          "base_uri": "https://localhost:8080/",
          "height": 34
        }
      },
      "source": [
        "# генератор названий компаний\n",
        "\n",
        "import random\n",
        "\n",
        "names = [\"пром\",\"агро\",\"торг\",\"урал\",\"север\",\"юг\",\"техно\",\n",
        "\"экспо\",\"метал\",\"нефть\",\"сельхоз\",\"фарм\",\"строй\",\n",
        "\"кредит\",\"алмаз\",\"-девелопмент\",\"развитие\",\"мос\",\n",
        "\"рос\",\"кубань\",\"сибирь\",\"восток\",\"нано\",\"софт\",\n",
        "\"микро\",\"онлайн\",\"инвест\",\"текстиль\",\"цемент\"]\n",
        "\n",
        "# Ваш код ниже\n",
        "\n",
        "company = '' \n",
        "\n",
        "for x in range(6): \n",
        "    company = company + random.choice(names)\n",
        "    \n",
        "print(company) #пусть в ней будет 6 частей\n",
        "\n",
        "# запустите ячейку несклько раз"
      ],
      "execution_count": 0,
      "outputs": [
        {
          "output_type": "stream",
          "text": [
            "инвесталмазтехномикрокредитсофт\n"
          ],
          "name": "stdout"
        }
      ]
    },
    {
      "cell_type": "markdown",
      "metadata": {
        "id": "2yJufW6c1J2r",
        "colab_type": "text"
      },
      "source": [
        "2. Транслитератор\n",
        "\n",
        "Напишите программу, которая будет транситерировать текст (собака >> sobaka)\n",
        "\n",
        "Вам нужно: \n",
        "1. написать побуквенный транслитератор с кириллицы на латиницу(здесь нужно ипользовать словарь)\n",
        "\n",
        "2. \"обернуть\" ваш код транслитератора в функцию\n",
        "\n",
        "3. применить функцию к тексту (возьмите любой, на ваш выбор, длиной от 2 до 7 предложений. Хорошая идея - искать в статьях на Википедии)\n",
        "    \n",
        "    3.1. чтобы работать с текстом, сохраните его в переменную\n",
        "\n"
      ]
    },
    {
      "cell_type": "code",
      "metadata": {
        "id": "OY3JW9ZpwAkS",
        "colab_type": "code",
        "outputId": "a846f9f8-5ad6-4903-e188-1b4e82a44940",
        "colab": {
          "base_uri": "https://localhost:8080/",
          "height": 54
        }
      },
      "source": [
        "# Ваш код здесь:\n",
        "\n",
        "def transliterate(text) :\n",
        "  trans_dict = {'а': 'a', \n",
        "                'б': 'b', \n",
        "                'в': 'v', \n",
        "                'г': 'g', \n",
        "                'д': 'd', \n",
        "                'е': 'e', \n",
        "                'ё': 'yo', \n",
        "                'ж': 'zh', \n",
        "                'з': 'z', \n",
        "                'и': 'i', \n",
        "                'й': 'y',\n",
        "                'к': 'k', \n",
        "                'л': 'l', \n",
        "                'м': 'm', \n",
        "                'н': 'n', \n",
        "                'о': 'o', \n",
        "                'п': 'p', \n",
        "                'р': 'r', \n",
        "                'с': 's', \n",
        "                'т': 't', \n",
        "                'у': 'u', \n",
        "                'ф': 'f', \n",
        "                'х': 'kh', \n",
        "                'ц': 'ts', \n",
        "                'ч': 'ch', \n",
        "                'ш': 'sh', \n",
        "                'щ': 'sch', \n",
        "                'ъ': '', \n",
        "                'ы': 'y', \n",
        "                'ь': '', \n",
        "                'э': 'e', \n",
        "                'ю': 'yu', \n",
        "                'я': 'ya' \n",
        "                }\n",
        "  text = text.lower()\n",
        "  new_text = ''\n",
        "  for letter in text :\n",
        "    if letter in trans_dict.keys() :\n",
        "      new_text = new_text + trans_dict[letter]\n",
        "    else :\n",
        "      new_text = new_text + letter\n",
        "\n",
        "  #text = text.translate(str.maketrans(str(trans_dict.keys()), str(trans_dict.values())))\n",
        "  return new_text\n",
        "\n",
        "input_text = 'Фильм стал поворотной точкой в карьере многих актёров. Ума Турман, которую Тарантино сравнивал с Марлен Дитрих и называл «своим Клинтом Иствудом»[23], \\\n",
        "и Сэмюэл Л. Джексон вошли в число ведущих актёров Голливуда, а Джон Траволта — вернулся туда после неудачных для себя 80-х годов. Все трое были номинированы на «Оскар». \\\n",
        "Брюс Уиллис уже был суперзвездой, однако все его последние фильмы были неудачными. Соглашаясь на роль второго плана в фильме с небольшим бюджетом, он пошёл на уменьшение \\\n",
        "своего обычного гонорара и рисковал своим звёздным статусом, однако эта стратегия полностью оправдалась: Уиллис не только получил миллионы долларов как проценты со сборов, \\\n",
        "но и перестал восприниматься лишь как герой боевиков[24]. Кроме того, в фильме сыграли Харви Кейтель, Тим Рот из «Бешеных псов».'\n",
        "print (transliterate(input_text))"
      ],
      "execution_count": 0,
      "outputs": [
        {
          "output_type": "stream",
          "text": [
            "film stal povorotnoy tochkoy v karere mnogikh aktyorov. uma turman, kotoruyu tarantino sravnival s marlen ditrikh i nazyval «svoim klintom istvudom»[23], i semyuel l. dzhekson voshli v chislo veduschikh aktyorov gollivuda, a dzhon travolta — vernulsya tuda posle neudachnykh dlya sebya 80-kh godov. vse troe byli nominirovany na «oskar». bryus uillis uzhe byl superzvezdoy, odnako vse ego poslednie filmy byli neudachnymi. soglashayas na rol vtorogo plana v filme s nebolshim byudzhetom, on poshyol na umenshenie svoego obychnogo gonorara i riskoval svoim zvyozdnym statusom, odnako eta strategiya polnostyu opravdalas: uillis ne tolko poluchil milliony dollarov kak protsenty so sborov, no i perestal vosprinimatsya lish kak geroy boevikov[24]. krome togo, v filme sygrali kharvi keytel, tim rot iz «beshenykh psov».\n"
          ],
          "name": "stdout"
        }
      ]
    },
    {
      "cell_type": "code",
      "metadata": {
        "id": "Mm3FYaIJ99GJ",
        "colab_type": "code",
        "colab": {}
      },
      "source": [
        ""
      ],
      "execution_count": 0,
      "outputs": []
    }
  ]
}
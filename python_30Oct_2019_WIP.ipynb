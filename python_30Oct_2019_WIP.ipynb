{
  "nbformat": 4,
  "nbformat_minor": 0,
  "metadata": {
    "colab": {
      "name": "Copy of python_30Oct_2019-WIP.ipynb",
      "provenance": [],
      "collapsed_sections": [
        "YPY75dCcrW7f",
        "LKlVNlBfjJHx",
        "zDDJ_qsdqvk-"
      ],
      "include_colab_link": true
    },
    "kernelspec": {
      "name": "python3",
      "display_name": "Python 3"
    }
  },
  "cells": [
    {
      "cell_type": "markdown",
      "metadata": {
        "id": "view-in-github",
        "colab_type": "text"
      },
      "source": [
        "<a href=\"https://colab.research.google.com/github/kagankevich/CL/blob/master/python_30Oct_2019_WIP.ipynb\" target=\"_parent\"><img src=\"https://colab.research.google.com/assets/colab-badge.svg\" alt=\"Open In Colab\"/></a>"
      ]
    },
    {
      "cell_type": "markdown",
      "metadata": {
        "id": "fKK1NqdSabRi",
        "colab_type": "text"
      },
      "source": [
        "*Сегодня мы поговорим о новых типах данных: кортежах, множествах и словарях*"
      ]
    },
    {
      "cell_type": "markdown",
      "metadata": {
        "id": "Sl2iWnGs23DL",
        "colab_type": "text"
      },
      "source": [
        "###classwork\n",
        "\n",
        "\n",
        "Определяем лучшего писателя отзывов. \n",
        "У вас есть четрые отзыва на фильм С.Кубрика \"Сияние\". Вам нужно определить, кто из авторов отзывов обладает наиболее развитым лексиконом ( таковым считаем самый длинный набор неповторяющихся слов в пределах одного отзыва). \n",
        "    для определения вам нужно: \n",
        "\n",
        "    1. Предобработать строку (см методы строк), сведя все к нижнему регистру, убрать пунктуацию.\n",
        "\n",
        "    2. Превратить строку в список \n",
        "    3. определить уникальные элементы в списке (надо что-то сделать со списком)\n",
        "    4. определить размер уникальных слов в пределах автора\n",
        "    5. определить наилучгего\n",
        "\n"
      ]
    },
    {
      "cell_type": "code",
      "metadata": {
        "id": "j5Nv1se228QQ",
        "colab_type": "code",
        "outputId": "adb8cb8f-bdc9-4192-e510-ae32395799ec",
        "colab": {
          "base_uri": "https://localhost:8080/",
          "height": 34
        }
      },
      "source": [
        "paul = \"When this film first came out in 1980, I remember going to see it on opening night. \\\n",
        "This movie just scared the life out of me, which is what still happens every time I rent the video for a re-watch. \\\n",
        "I have seen The Shining at least six or seven times, and I still believe it to be simultaneously and paradoxically one of the most \\\n",
        "frightening and yet funniest films I've ever seen. Frightening because of the extraordinarily effective use of long shots\\\n",
        " to create feelings of isolation, convex lens shots to enhance surrealism, and meticulously scored music to bring tension levels to virtually\\\n",
        "  unbearable levels. And \\\"funny\\\" because of Jack Nicholson's outrageous and in many cases ad-libbed onscreen antics.\\\n",
        "   It never ceases to amaze me how The Shining is actually two films in one, both a comedy AND a horror flick. \\\n",
        "   Ghostly apparitions of a strikingly menacing nature haunt much of the first half of the film, which gradually \\\n",
        "   evolve into ever more serious physical threats as time progresses. Be that as it may, there is surprisingly little \\\n",
        "   violence given the apparent intensity, but that is little comfort for the feint of heart as much of the terror is more\\\n",
        "    implied than manifest. The Shining is a truly frightening movie that works symbolically on many levels, but is basically \\\n",
        "    about human shortcomings and the way they can be exploited by unconscious forces combined with weakness of will.\\\n",
        "     This film scares the most just by using suggestion to turn your own imagination against you. The Shining is a\\\n",
        "      brilliant cinematic masterpiece, the likes of which have never been seen before or since. Highly, highly recommended.\"\n",
        "\n",
        "jane = \"Chilling, majestic piece of cinematic fright, this film combines all the great elements of an intellectual thriller,\\\n",
        " with the grand vision of a director who has the instinctual capacity to pace a moody horror flick within the realm of his filmmaking\\\n",
        "  genius that includes an eye for the original shot, an ice-cold soundtrack and an overall sense of dehumanization. This movie cuts through\\\n",
        "  all the typical horror movies like a red-poker through a human eye, as it allows the viewer to not only feel the violence and psychosis of\\\n",
        "   its protagonist, but appreciate the seed from which the derangement stems. One of the scariest things for people to face is the unknown \\\n",
        "   and this film presents its plotting with just that thought in mind. The setting is perfect, in a desolate winter hideaway. The quietness\\\n",
        "    of the moment is a character in itself, as the fermenting aggressor in Jack Torrance's mind wallows in this idle time, and breeds the\\\n",
        "     devil's new playground. I always felt like the presence of evil was dormant in all of our minds, with only the circumstances \\\n",
        "     of the moment, and the reasons given therein, needed to wake its violent ass and pounce over its unsuspecting victims. \\\n",
        "     This film is a perfect example of this very thought.\"\n",
        "\n",
        "kate = \"What can I say about the scariest movie I have ever seen that has not already been said by others more articulate than yours truly? \\\n",
        "Do not view this film expecting to see a screen version of the Stephen King novel. Rather, this is a Stanley Kubrick film, \\\n",
        "and to fully appreciate it one should judge it within the context of Kubrick's entire body of work as a serious filmmaker. Thematically, \\\n",
        "THE SHINING relates most closely to 2001: A SPACE ODYSSEY, though flourishes of PATHS OF GLORY, A CLOCKWORK ORANGE and BARRY LYNDON \\\n",
        "do manage to figure prominently in the film's overall technique. In a nutshell (no pun intended), Jack Nicholson and Shelly Duvall\\\n",
        " co-star with Oregon's Timberline Lodge - enlisted to portray the exterior of the Overlook Hotel - in a story that appears on the surface\\\n",
        "  to be about ghosts and insanity, but deals with issues of child abuse, immortality and duality. What the film might lack initially in\\\n",
        "   terms of coherence is more than made up for in technique. Garrett Brown (the male voice in those old Molson Golden commercials), \\\n",
        "   inventor of the Steadicam, chases young Danny Lloyd through hotel corridors and an amazing snow maze, providing magic-carpet-ride\\\n",
        "    fluidity to scenes that ten years earlier would have been impossible to accomplish. If the film starts off too slow, remember who \\\n",
        "    the director is. This man likes to take his time, and the results are well worth it: incredible aerial shots of the Overlook Hotel;\\\n",
        "     horrific Diane Arbus-inspired twins staring directly at us; portentous room 237 and its treasure trove of terrible secrets; \\\n",
        "     elevators that gush rivers of blood in slow-motion; Jack Torrance's immortality found via the hotel (akin to David \\\n",
        "     Bowman'\\s journey through the Space Gate); and some of the best use of pre-existing music ever assembled for a motion picture.\"\n",
        "\n",
        "\n",
        "nick = \"I was never a big fan of horror movies. They usually try cheap tricks to scare their audiences like loud noises and creepy children.\\\n",
        " They usually lack originality and contain overacting galore. The only horror movie i like was Stir of Echoes with Kevin Bacon. \\\n",
        " It was well-acted, and had a great story. But it has been joined and maybe even surpassed by Stanley Kubrick's The Shining, \\\n",
        " quite possibly the scariest movie ever. The movie follows a writer (Jack Nicholson) and his family who agree to watch over a hotel\\\n",
        "  while it is closed for the winter. There were rumors of the place being haunted and the last resident went crazy and murdered his family.\\\n",
        "   But Jack is convinced it will be OK and he can use the quiet to overcome his writer's block. After months of solitude and silence however, \\\n",
        "   Jack becomes a grumpy and later violent. Is it cabin fever or is there something in the hotel that is driving him mad? \\\n",
        "   One of the creepiest parts about the movie is the feeling of isolation that Kubrick makes. The hotel is very silent, and the rooms are huge,\\\n",
        "yet always empty. It is also eerily calm when Jack's son is riding his bike through the barren hallways. Jack Nicholson's performance \\\n",
        "is also one of his very best, scaring the hell out of me and making me sure to get out once in awhile. My favorite scene is when he is \\\n",
        "talking to a ghost from inside a walk-in refrigerator. The Shining is tops for horror movies in my opinion, beating the snot out\\\n",
        " of crap like the Ring and The Blair Witch Project. It may be a oldie, but is definitely a goodie.\"\n",
        "\n",
        "comments = {'paul': paul, 'nick': nick, 'jane': jane, 'kate': kate}\n",
        "max_len = 0\n",
        "for name, comment in comments.items() :\n",
        "  comment = comment.split(' ')\n",
        "  clean_comment = []\n",
        "  for word in comment :\n",
        "    word = word.lower().strip(\"!?,.)(:;\\'\\\"1234567890-\")\n",
        "    clean_comment.append(word) \n",
        "  clean_comment = set(clean_comment)\n",
        "  #print (clean_comment)\n",
        "  if max_len < len(clean_comment) :  max_len = len(clean_comment)\n",
        "\n",
        "print ('the best commenter is', name, 'with', max_len, 'words')\n",
        "\n"
      ],
      "execution_count": 17,
      "outputs": [
        {
          "output_type": "stream",
          "text": [
            "the best commenter is kate with 208 words\n"
          ],
          "name": "stdout"
        }
      ]
    },
    {
      "cell_type": "markdown",
      "metadata": {
        "id": "hAgT52fP26V2",
        "colab_type": "text"
      },
      "source": [
        "##homework\n",
        "\n",
        "как обычно, разделена на два трека, Вы можете выбрать один из понравившихся\n",
        "\n",
        "*(или сделать оба, если есть время и желание)*"
      ]
    },
    {
      "cell_type": "markdown",
      "metadata": {
        "id": "cUiYXrAi3MMe",
        "colab_type": "text"
      },
      "source": [
        "###**easy mode**"
      ]
    },
    {
      "cell_type": "code",
      "metadata": {
        "id": "tzaMNGUt2qob",
        "colab_type": "code",
        "colab": {}
      },
      "source": [
        ""
      ],
      "execution_count": 0,
      "outputs": []
    },
    {
      "cell_type": "markdown",
      "metadata": {
        "id": "UxDt9KIA3RdR",
        "colab_type": "text"
      },
      "source": [
        "###**hard mode**"
      ]
    },
    {
      "cell_type": "code",
      "metadata": {
        "id": "hkAcvQSy3SWP",
        "colab_type": "code",
        "colab": {}
      },
      "source": [
        ""
      ],
      "execution_count": 0,
      "outputs": []
    }
  ]
}
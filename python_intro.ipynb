{
  "nbformat": 4,
  "nbformat_minor": 0,
  "metadata": {
    "colab": {
      "name": "python_intro.ipynb",
      "provenance": [],
      "collapsed_sections": [],
      "include_colab_link": true
    },
    "kernelspec": {
      "name": "python3",
      "display_name": "Python 3"
    }
  },
  "cells": [
    {
      "cell_type": "markdown",
      "metadata": {
        "id": "view-in-github",
        "colab_type": "text"
      },
      "source": [
        "<a href=\"https://colab.research.google.com/github/kagankevich/CL/blob/master/python_intro.ipynb\" target=\"_parent\"><img src=\"https://colab.research.google.com/assets/colab-badge.svg\" alt=\"Open In Colab\"/></a>"
      ]
    },
    {
      "cell_type": "markdown",
      "metadata": {
        "id": "OaRaw_Xhe_WW",
        "colab_type": "text"
      },
      "source": [
        "## домашнее задание: \n",
        "(можно выполнять прям в ячейках, или скопировав код в \n",
        "PyCharm)\n"
      ]
    },
    {
      "cell_type": "code",
      "metadata": {
        "id": "7ULyIqr9rjqZ",
        "colab_type": "code",
        "colab": {
          "base_uri": "https://localhost:8080/",
          "height": 104
        },
        "outputId": "1e139beb-74e2-454b-eebf-bc34fc331586"
      },
      "source": [
        "# задание 1\n",
        "# какие из этих строк можно конкатенировать? Какие умножать? Какие вычитать? Запишите все результаты, которые у Вас получились\n",
        "a = 23\n",
        "b = 34.02\n",
        "c = \"python is cool\"\n",
        "d = \"you are cool, too\"\n",
        "print(c+d)\n",
        "print(a*b)\n",
        "print(a-b)\n",
        "print(c*a)\n",
        "\n"
      ],
      "execution_count": 58,
      "outputs": [
        {
          "output_type": "stream",
          "text": [
            "python is coolyou are cool, too\n",
            "782.46\n",
            "-11.020000000000003\n",
            "python is coolpython is coolpython is coolpython is coolpython is coolpython is coolpython is coolpython is coolpython is coolpython is coolpython is coolpython is coolpython is coolpython is coolpython is coolpython is coolpython is coolpython is coolpython is coolpython is coolpython is coolpython is coolpython is cool\n"
          ],
          "name": "stdout"
        }
      ]
    },
    {
      "cell_type": "code",
      "metadata": {
        "id": "rFbWmOQgiP3d",
        "colab_type": "code",
        "colab": {
          "base_uri": "https://localhost:8080/",
          "height": 84
        },
        "outputId": "43135526-b464-41d2-c8e0-a90d4bc2efbc"
      },
      "source": [
        "# задание 2\n",
        "\"\"\"\n",
        "Придумайте такую строку (на любом знакомом Вам языке),чтобы она состояла из трех других (повторы строки разрешены).\n",
        "Напишите код. Если вы можете сделать это более, чем одним способом, напишите все способы\n",
        "\"\"\"\n",
        "mystr = 'hello'+'\\nhello'+'\\nhello'\n",
        "mystr2 = 'fur'*2\n",
        "print(mystr)\n",
        "print(mystr2)"
      ],
      "execution_count": 29,
      "outputs": [
        {
          "output_type": "stream",
          "text": [
            "hello\n",
            "hello\n",
            "hello\n",
            "furfur\n"
          ],
          "name": "stdout"
        }
      ]
    },
    {
      "cell_type": "code",
      "metadata": {
        "id": "axJ6u-qwsOxy",
        "colab_type": "code",
        "colab": {
          "base_uri": "https://localhost:8080/",
          "height": 34
        },
        "outputId": "322b0b60-36db-4b54-d8bf-33027392116d"
      },
      "source": [
        "# задание 3\n",
        "\"\"\"\n",
        "Как из слова \"апельсин\" сделать слово \"спаниель\" ? \n",
        "Подсказка: вам помогут срезы и операции с индексами\n",
        "\"\"\"\n",
        "str1 = \"апельсин\"\n",
        "str2 = str1[-3]+str1[1::-1]+str1[-1:-3:-1]+str1[2]+str1[3:5]\n",
        "print(str2)\n"
      ],
      "execution_count": 51,
      "outputs": [
        {
          "output_type": "stream",
          "text": [
            "спаниель\n"
          ],
          "name": "stdout"
        }
      ]
    },
    {
      "cell_type": "code",
      "metadata": {
        "id": "-RcJ1FISsSPx",
        "colab_type": "code",
        "colab": {
          "base_uri": "https://localhost:8080/",
          "height": 34
        },
        "outputId": "ca5950cd-ac14-4300-bb7f-7bac64b7a6e9"
      },
      "source": [
        "# задание 4 (выполняется по желанию)\n",
        "\"\"\"элементы в переменной text преобразуйте в нижний регистр, а затем запишите наоборот, с последнего элемента по первый\"\"\"\n",
        "text = \"WOW,NOEL SEES LEON\"\n",
        "print(text.lower()[::-1])\n",
        "\n"
      ],
      "execution_count": 32,
      "outputs": [
        {
          "output_type": "stream",
          "text": [
            "noel sees leon,wow\n"
          ],
          "name": "stdout"
        }
      ]
    }
  ]
}